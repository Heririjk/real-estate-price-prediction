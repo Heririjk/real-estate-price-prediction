# code will facilitate the split of an url link
# dict['Locality'].append(var.rsplit('/')[-3])
# this code will split the url by backslash and will give back the 3rd element from the end of the string, code is used already in scraping_selenium
