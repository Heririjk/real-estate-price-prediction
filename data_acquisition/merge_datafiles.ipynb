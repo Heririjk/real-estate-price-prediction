{
 "cells": [
  {
   "cell_type": "code",
   "execution_count": 13,
   "metadata": {},
   "outputs": [],
   "source": [
    "all_links_array = []\n",
    "clean_array = []\n",
    "\n",
    "#given different files with links of subcategories\n",
    "with open('links/links_5.txt',\"r\") as f:\n",
    "    cat_array = f.read().split(\"\\n\")\n",
    "with open('links/links_6.txt',\"r\") as r:\n",
    "    cat_array1 = r.read().split(\"\\n\")\n",
    "\n",
    "#given the links with all the urls\n",
    "with open('links/links_10.txt',\"r\") as h:\n",
    "    all_links_array = h.read().split(\"\\n\")\n",
    "\n",
    "#substract the subcategories from all\n",
    "clean_array = list(set(all_links_array)-set(filter(None, cat_array1+cat_array)))\n",
    "\n",
    "#write the output to a new file and use the files with the subcategories apart and add column Sub type\n",
    "with open('links/links_13.txt',\"w\") as f:\n",
    "    for x in clean_array:\n",
    "        f.write(x+\"\\n\")"
   ]
  },
  {
   "cell_type": "code",
   "execution_count": null,
   "metadata": {},
   "outputs": [],
   "source": [
    "with open('page_2.csv',\"r\") as f:\n",
    "    df=pd.read_csv('page_2.csv')\n",
    "# house page2.csv   - villa ; page_3.csv - mansion\n",
    "#df['Subtype'] = df['Subtype'].fillna('villa')\n",
    "#df['Subtype of property'] = df['Subtype of property'].fillna('mansion')\n",
    "\n",
    "with open('page_2_1.csv',\"r\") as f:\n",
    "    df1=pd.read_csv('page_2_1.csv')\n",
    "df1['Type'] = 'house'\n",
    "#df['Subtype'] = df['Subtype'].fillna('villa')\n",
    "#df['Subtype of property'] = df['Subtype of property'].fillna('mansion')\n",
    "df1['Subtype'] = np.nan\n",
    "# merge both DataFrames\n",
    "result = pd.concat([df, df1], axis=0)\n",
    "with open('page_3.csv',\"w\") as f:\n",
    "    result.to_csv('page_3.csv', index=False)"
   ]
  }
 ],
 "metadata": {
  "kernelspec": {
   "display_name": "Python 3",
   "language": "python",
   "name": "python3"
  },
  "language_info": {
   "codemirror_mode": {
    "name": "ipython",
    "version": 3
   },
   "file_extension": ".py",
   "mimetype": "text/x-python",
   "name": "python",
   "nbconvert_exporter": "python",
   "pygments_lexer": "ipython3",
   "version": "3.9.6"
  },
  "orig_nbformat": 4,
  "vscode": {
   "interpreter": {
    "hash": "31f2aee4e71d21fbe5cf8b01ff0e069b9275f58929596ceb00d14d90e3e16cd6"
   }
  }
 },
 "nbformat": 4,
 "nbformat_minor": 2
}
